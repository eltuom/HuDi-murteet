{
  "nbformat": 4,
  "nbformat_minor": 0,
  "metadata": {
    "colab": {
      "provenance": []
    },
    "kernelspec": {
      "name": "python3",
      "display_name": "Python 3"
    },
    "language_info": {
      "name": "python"
    }
  },
  "cells": [
    {
      "cell_type": "code",
      "source": [
        "import sys\n",
        "import re\n",
        "import json\n",
        "from collections import Counter"
      ],
      "metadata": {
        "id": "Qtxhxw5jgzoT"
      },
      "execution_count": null,
      "outputs": []
    },
    {
      "cell_type": "markdown",
      "source": [
        "## kommentit.py\n",
        "- Oheisella scriptillä poimitaan conllu-tiedostosta Suomi24-kommentti, sen annotaatiot ja metadatasta comment_id\n",
        "\n",
        "- Tuloksena seuraavissa vaiheissa hyödynnettävä json-tiedosto"
      ],
      "metadata": {
        "id": "2wTu_vUe88nW"
      }
    },
    {
      "cell_type": "code",
      "source": [
        "def read_text(inp):\n",
        "    id = None\n",
        "    annotaatiot = []\n",
        "    for line in inp:\n",
        "        line = line.strip()\n",
        "        if line.startswith(\"ID:\"):\n",
        "            if id is not None:\n",
        "                yield (id, kommentit, annotaatiot)\n",
        "            id = line\n",
        "            kommentit = []\n",
        "            annotaatiot = []\n",
        "        elif id is None:\n",
        "            id = line\n",
        "        else:\n",
        "            if line.startswith(\"['\"):\n",
        "              annotaatiot.append(line)\n",
        "              continue\n",
        "            else:\n",
        "                if line.startswith(\"TEKSTI:\"):\n",
        "                    line = line.split(\"TEKSTI:\", 1)\n",
        "                    kommentti = line[1].strip()\n",
        "                    kommentit.append(kommentti)\n",
        "\n",
        "output_data = []\n",
        "\n",
        "for id, kommentit, annotaatiot in read_text(sys.stdin):\n",
        "    for kommentti in kommentit:\n",
        "        comment_id = re.search(r'\\s*id\\s*=\\s*[\"\\']?(\\d+:\\d+)', id).group(1)\n",
        "        output_data.append({\"comment_id\": comment_id, \"comment\": kommentti, \"annot\": annotaatiot})\n",
        "\n",
        "with open(\"kommentit.json\", \"w\") as output_file:\n",
        "    json.dump(output_data, output_file, indent=4)\n"
      ],
      "metadata": {
        "id": "WSJbJqGK-mN7"
      },
      "execution_count": null,
      "outputs": []
    },
    {
      "cell_type": "markdown",
      "source": [
        "## murrepiirteet.py\n",
        "- kommenttitiedostosta voidaan hakea murrepiirteitä regexien avulla\n",
        "- esimerkkinä ts-vaihtelu, mutta jatkoa varten tätä tulisi laajentaa huomioimaan annotaatiot, jotta osumatarkkuus paranisi. Tällaisenaan mukana paljon roskaa."
      ],
      "metadata": {
        "id": "XB48dl4VDFiM"
      }
    },
    {
      "cell_type": "code",
      "source": [
        "ts_variantti = r'\\w+[aeiouyäö]ts[aeiouyäö]\\w*$'\n",
        "tt_variantti = r'\\w+[aeiouyäö]tt[aeiouyäö]\\w*$'\n",
        "ht_variantti = r'\\w+[aeiouyäö]ht[aeiouyäö]\\w*$'\n",
        "\n",
        "def search_patterns_in_comments(data):\n",
        "    pattern_matches = {}\n",
        "\n",
        "    for item in data:\n",
        "        comment_id = item[\"comment_id\"]\n",
        "        comment = item[\"comment\"]\n",
        "\n",
        "        matches_ts = re.findall(ts_variantti, comment)\n",
        "        matches_ht = re.findall(ht_variantti, comment)\n",
        "        matches_tt = re.findall(tt_variantti, comment)\n",
        "\n",
        "        if matches_ts or matches_ht or matches_tt:\n",
        "            pattern_matches[comment_id] = {\n",
        "                \"ts_variantti_matches\": matches_ts,\n",
        "                \"ht_variantti_matches\": matches_ht,\n",
        "                \"tt_variantti_matches\": matches_tt\n",
        "            }\n",
        "    return pattern_matches\n",
        "\n",
        "with open(\"kommentit.json\", \"r\") as json_file:\n",
        "    comments_data = json.load(json_file)\n",
        "\n",
        "result = search_patterns_in_comments(comments_data)\n",
        "\n",
        "for comment_id, matches in result.items():\n",
        "    print(f\"Comment ID: {comment_id}\")\n",
        "    print(f\"ts_variantti matches: {matches['ts_variantti_matches']}\")\n",
        "    print(f\"ht_variantti matches: {matches['ht_variantti_matches']}\")\n",
        "    print(f\"tt_variantti matches: {matches['tt_variantti_matches']}\\n\")"
      ],
      "metadata": {
        "id": "R2MAvir8aUMm"
      },
      "execution_count": null,
      "outputs": []
    }
  ]
}