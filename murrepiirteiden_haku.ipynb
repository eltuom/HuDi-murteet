{
  "nbformat": 4,
  "nbformat_minor": 0,
  "metadata": {
    "colab": {
      "provenance": []
    },
    "kernelspec": {
      "name": "python3",
      "display_name": "Python 3"
    },
    "language_info": {
      "name": "python"
    }
  },
  "cells": [
    {
      "cell_type": "code",
      "source": [
        "import sys\n",
        "import re\n",
        "import gzip\n",
        "from collections import Counter"
      ],
      "metadata": {
        "id": "oZ2mLqaX4QMh"
      },
      "execution_count": null,
      "outputs": []
    },
    {
      "cell_type": "markdown",
      "source": [
        "## annot.py\n",
        "- oheisella scriptillä poimitaan conllu-tiedostosta vain Suomi24-kommenttien annotaatiot,\n",
        "- tuloksena seuraavissa vaiheissa hyödynnettävä txt-tiedosto\n",
        "- notebookia varten with open, terminaalissa helpompi"
      ],
      "metadata": {
        "id": "2wTu_vUe88nW"
      }
    },
    {
      "cell_type": "code",
      "source": [
        "def read_text(inp):\n",
        "    id = None\n",
        "    anno_rivit = []\n",
        "    for line in inp:\n",
        "        line = line.strip()\n",
        "        if line.startswith(\"ID:\"):\n",
        "            if id is not None:\n",
        "                yield (id, anno_rivit)\n",
        "            id = line\n",
        "            anno_rivit = []\n",
        "        elif id is None:\n",
        "            id = line\n",
        "        else:\n",
        "            if line.startswith(\"TEKSTI:\") or line.startswith(\"ANNOT:\") or line.startswith(\"LABEL:\"):\n",
        "                continue\n",
        "            else:\n",
        "                if line:\n",
        "                    annot = line\n",
        "                    anno_rivit.append(annot)\n",
        "\n",
        "    yield (id, anno_rivit)\n",
        "\n",
        "input_tiedosto = \"\"  # tähän paikkakuntakorpus\n",
        "output_tiedostonimi = \"annot.txt\"\n",
        "with open(input_tiedosto, \"r\") as input_f, open(output_tiedostonimi, \"w\") as output_f:\n",
        "    for id, anno_rivit in read_text(input_f):\n",
        "        for annot in anno_rivit:\n",
        "            output_f.write(annot + \"\\n\")\n"
      ],
      "metadata": {
        "id": "M-34rkPr9DSp"
      },
      "execution_count": null,
      "outputs": []
    },
    {
      "cell_type": "markdown",
      "source": [
        "- ohjeet seuraavien skriptien tulkitsemiseen tarvittaessa erillisessä tiedostossa (OHJE)\n",
        "- käytännössä tiedostosta etsitään tiettyjen lekseemien kaikki vaihtelua sisältävät muodot (edellytyksenä etsittavat_sanat-muuttujassa määritelty lemma), ja lisätään ne listoihin\n",
        "- ohjeessa ja osassa vaihteluskriptejä on käytetty system input tiedostojen käsittelyyn, tarvittaessa pitää vaihtaa\n"
      ],
      "metadata": {
        "id": "6cMB-qNZF22n"
      }
    },
    {
      "cell_type": "markdown",
      "source": [
        "##  /ts/ vaihtelu"
      ],
      "metadata": {
        "id": "wg5WvBgF-OHX"
      }
    },
    {
      "cell_type": "code",
      "source": [
        "etsittavat_sanat = [\"kahtoa\", \"katsoa\", \"kattoa\", \"itte\", \"itse\", \"ihte\", \"ruotti\", \"ruotsi\", \"ruohti\", ]\n",
        "\n",
        "tt_vaihtelu = []\n",
        "ts_vaihtelu = []\n",
        "t_vaihtelu = []\n",
        "ht_vaihtelu = []\n",
        "muu = []\n",
        "\n",
        "laskuri = Counter()\n",
        "\n",
        "def annojen_erittely(line):\n",
        "    pattern = r\"'.*?'\"\n",
        "    annot = re.findall(pattern, line)\n",
        "    annot = [i.strip(\"'\") for i in annot]\n",
        "    return annot\n",
        "\n",
        "with open(\"annot.txt\", \"r\") as f:\n",
        "    for line in f:\n",
        "        annorivi = annojen_erittely(line)\n",
        "        if len(annorivi) >= 2:\n",
        "            etsittava_sana = annorivi[2].lower()\n",
        "            if etsittava_sana in etsittavat_sanat:\n",
        "                if \"ts\" in annorivi[1].lower():\n",
        "                    ts_vaihtelu.append(annorivi)\n",
        "                elif \"tt\" in annorivi[1].lower():\n",
        "                    tt_vaihtelu.append(annorivi)\n",
        "                elif \"ht\" in annorivi[1].lower():\n",
        "                    ht_vaihtelu.append(annorivi)\n",
        "                elif \"t\" in annorivi[1].lower() and \"h\" not in annorivi[1].lower() and \"ts\" not in annorivi[1].lower() and \"tt\" not in annorivi[1].lower():\n",
        "                    t_vaihtelu.append(annorivi)\n",
        "                else:\n",
        "                    muu.append(annorivi)\n",
        "\n",
        "# lasketaan kaikki esiintymät ja osuudet\n",
        "total_matches = len(tt_vaihtelu) + len(ts_vaihtelu) + len(t_vaihtelu) + len(ht_vaihtelu) + len(muu)\n",
        "\n",
        "if total_matches > 0:\n",
        "    percentages = {\n",
        "        \"tt_vaihtelu\": len(tt_vaihtelu) / total_matches * 100,\n",
        "        \"ts_vaihtelu\": len(ts_vaihtelu) / total_matches * 100,\n",
        "        \"t_vaihtelu\": len(t_vaihtelu) / total_matches * 100,\n",
        "        \"ht_vaihtelu\": len(ht_vaihtelu) / total_matches * 100,\n",
        "        \"muu\": len(muu) / total_matches * 100,\n",
        "    }\n",
        "\n",
        "    for key, value in percentages.items():\n",
        "        print(f\"{key} osuus esiintymistä: {value:.2f}%\\n\")\n",
        "\n",
        "print(\"Kaikki tt esiintymät:\", len(tt_vaihtelu))\n",
        "for item in tt_vaihtelu:\n",
        "    print(item)\n",
        "print(\"Kaikki ts esiintymät:\", len(ts_vaihtelu))\n",
        "for item in ts_vaihtelu:\n",
        "    print(item)\n",
        "print(\"Kaikki t+kato esiintymät:\", len(t_vaihtelu))\n",
        "for item in t_vaihtelu:\n",
        "    print(item)\n",
        "print(\"Kaikki ht esiintymät:\", len(ht_vaihtelu))\n",
        "for item in ht_vaihtelu:\n",
        "    print(item)\n",
        "print(\"Muut esiintymät:\", len(muu))\n",
        "for item in muu:\n",
        "    print(item)\n"
      ],
      "metadata": {
        "id": "wjbtv6IECKeS"
      },
      "execution_count": null,
      "outputs": []
    },
    {
      "cell_type": "markdown",
      "source": [
        "## metsä-sanan vaihtelu\n",
        "- voisi yhdistää myös ts-vaihtelun tarkasteluun\n",
        "- Huom. system input --> korvaa tarvittaessa open file"
      ],
      "metadata": {
        "id": "fzfhz3lK8p5V"
      }
    },
    {
      "cell_type": "code",
      "source": [
        "etsittavat_sanat = [\"metsä\", \"mettä\", \"mehtä\", \"mehttä\", \"messä\"]\n",
        "\n",
        "tt_vaihtelu = []\n",
        "ts_vaihtelu = []\n",
        "t_vaihtelu = []\n",
        "ht_vaihtelu = []\n",
        "ss_vaihtelu = []\n",
        "muu = []\n",
        "\n",
        "laskuri = Counter()\n",
        "\n",
        "def annojen_erittely(line):\n",
        "    pattern = r\"'.*?'\"\n",
        "    annot = re.findall(pattern, line)\n",
        "    annot = [i.strip(\"'\") for i in annot]\n",
        "    return annot\n",
        "\n",
        "for line in sys.stdin:\n",
        "    annorivi = annojen_erittely(line)\n",
        "    if len(annorivi) >= 2:\n",
        "        etsittava_sana = annorivi[2].lower()\n",
        "        if etsittava_sana in etsittavat_sanat:\n",
        "            if \"ts\" in annorivi[1].lower():\n",
        "                ts_vaihtelu.append(annorivi)\n",
        "            elif \"tt\" in annorivi[1].lower():\n",
        "                tt_vaihtelu.append(annorivi)\n",
        "            elif \"ht\" in annorivi[1].lower():\n",
        "                ht_vaihtelu.append(annorivi)\n",
        "            elif \"ss\" in annorivi[1].lower() and \"ts\" not in annorivi[1].lower():\n",
        "                ss_vaihtelu.append(annorivi)\n",
        "            elif \"t\" in annorivi[1].lower() and \"h\" not in annorivi[1].lower() and \"ts\" not in annorivi[1].lower() and \"tt\" not in annorivi[1].lower():\n",
        "                t_vaihtelu.append(annorivi)\n",
        "            else:\n",
        "                muu.append(annorivi)\n",
        "\n",
        "# lasketaan kaikki esiintymät ja osuudet\n",
        "total_matches = len(tt_vaihtelu) + len(ts_vaihtelu) + len(t_vaihtelu) + len(ht_vaihtelu) + len(muu)\n",
        "\n",
        "if total_matches > 0:\n",
        "    percentages = {\n",
        "        \"tt_vaihtelu\": len(tt_vaihtelu) / total_matches * 100,\n",
        "        \"ts_vaihtelu\": len(ts_vaihtelu) / total_matches * 100,\n",
        "        \"ss_vaihtelu\": len(ss_vaihtelu) / total_matches * 100,\n",
        "        \"t_vaihtelu\": len(t_vaihtelu) / total_matches * 100,\n",
        "        \"ht_vaihtelu\": len(ht_vaihtelu) / total_matches * 100,\n",
        "        \"muu\": len(muu) / total_matches * 100,\n",
        "    }\n",
        "\n",
        "    for key, value in percentages.items():\n",
        "        print(f\"{key} osuus esiintymistä: {value:.2f}%\\n\")\n",
        "\n",
        "# printataan löydökset\n",
        "print(\"Kaikki tt esiintymät:\", len(tt_vaihtelu))\n",
        "print(\"Kaikki ts esiintymät:\", len(ts_vaihtelu))\n",
        "print(\"Kaikki ss esiintymät:\", len(ss_vaihtelu))\n",
        "for item in ss_vaihtelu:\n",
        "    print(item)\n",
        "print(\"Kaikki t+kato esiintymät:\", len(t_vaihtelu))\n",
        "print(\"Kaikki ht esiintymät:\", len(ht_vaihtelu))\n",
        "print(\"Muut esiintymät:\", len(muu))\n",
        "for item in muu:\n",
        "    print(item)\n"
      ],
      "metadata": {
        "id": "DJxgGUIT8wHX"
      },
      "execution_count": null,
      "outputs": []
    },
    {
      "cell_type": "markdown",
      "source": [
        "## /d/ vaihtelu\n",
        "- Huom. system input --> korvaa tarvittaessa open file"
      ],
      "metadata": {
        "id": "m3gK21ANhG0e"
      }
    },
    {
      "cell_type": "code",
      "source": [
        "etsittavat_sanat = [\"syödä\", \"syydä\", \"syörä\", \"syyvä\", \"syvvä\", \"kären\", \"käsi\", \"käjen\", \"rauva\", \"rauta\", \"raura\", \"tehrä\", \"tehä\",]\n",
        "\n",
        "yleiskielinen = []\n",
        "lantinen_r = []\n",
        "itainen_v = []\n",
        "muu = []\n",
        "\n",
        "laskuri = Counter()\n",
        "\n",
        "def annojen_erittely(line):\n",
        "    pattern = r\"'.*?'\"\n",
        "    annot = re.findall(pattern, line)\n",
        "    annot = [i.strip(\"'\") for i in annot]\n",
        "    return annot\n",
        "\n",
        "for line in sys.stdin:\n",
        "    annorivi = annojen_erittely(line)\n",
        "    if len(annorivi) >= 2:\n",
        "        etsittava_sana = annorivi[2].lower()\n",
        "        if etsittava_sana in etsittavat_sanat:\n",
        "            if \"d\" in annorivi[1].lower():          # yleiskielinen d\n",
        "                yleiskielinen.append(annorivi)\n",
        "            elif len(etsittava_sana) >= 4 and \"r\" in etsittava_sana[2].lower() or \"r\" in etsittava_sana[3].lower() : # läntinen r\n",
        "                lantinen_r.append(annorivi)\n",
        "            elif \"v\" in annorivi[1].lower() and \"yö\" not in etsittava_sana:   # itäinen v\n",
        "                itainen_v.append(annorivi)\n",
        "            else:\n",
        "                muu.append(annorivi)\n",
        "\n",
        "# lasketaan kaikki esiintymät ja osuudet\n",
        "total_matches = len(lantinen_r) + len(yleiskielinen) + len(itainen_v) + len(muu)\n",
        "\n",
        "if total_matches > 0:\n",
        "    percentages = {\n",
        "    \"Läntinen r vaihtelu\": len(lantinen_r) / total_matches * 100,\n",
        "    \"Yleiskielinen d\": len(yleiskielinen) / total_matches * 100,\n",
        "    \"Itäinen v vaihtelu\": len(itainen_v) / total_matches * 100,\n",
        "    \"Muut esiintymät\": len(muu) / total_matches * 100,\n",
        "}\n",
        "\n",
        "    for key, value in percentages.items():\n",
        "        print(f\"{key} osuus esiintymistä: {value:.2f}%\\n\")\n",
        "\n",
        "# esiintymät näkyviin, poista # tarvittaessa\n",
        "#print(\"Kaikki r vaihtelut:\", len(lantinen_r))\n",
        "#for item in lantinen_r:\n",
        "#    print(item)\n",
        "# print(\"Kaikki yleiskieliset variantit:\", len(yleiskielinen))\n",
        "# for item in yleiskielinen:\n",
        "#    print(item)\n",
        "#print(\"Kaikki itäiset v:\"), len(itainen_v)\n",
        "#for item in itainen_v:\n",
        "#    print(item)\n",
        "#print(\"Kaikki muut esiintymät:\", len(muu))\n",
        "#for item in muu:\n",
        "#   print(item)"
      ],
      "metadata": {
        "id": "5PnXyPOQhKKv"
      },
      "execution_count": null,
      "outputs": []
    },
    {
      "cell_type": "markdown",
      "source": [
        "## Inessiivi\n",
        "- Nimitykset voisi katsoa uudelleen. Esimerkiksi \"supistuminen\" ei sopiva tässä kohtaa\n",
        "- Huom. system input --> korvaa tarvittaessa open file"
      ],
      "metadata": {
        "id": "g0IzOk1lsh2B"
      }
    },
    {
      "cell_type": "code",
      "source": [
        "etsittavat_sanat = [\"koulu\", \"koulus\", \"koulusa\", \"paikka\", \"paikas\", \"paikasa\", \"paikaisin\", \"hukassa\", \"hukas\", \"hukasa\", \"hukka\", \"töissä\", \"töis\", \"töisä\",]\n",
        "\n",
        "yleiskielinen = []\n",
        "lantinen_kato = []\n",
        "lantinen_s = []\n",
        "muu = []   # tänne kerätään muut muodot\n",
        "\n",
        "laskuri = Counter()\n",
        "\n",
        "def annojen_erittely(line):\n",
        "    pattern = r\"'.*?'\"\n",
        "    annot = re.findall(pattern, line)\n",
        "    annot = [i.strip(\"'\") for i in annot]\n",
        "    return annot\n",
        "\n",
        "for line in sys.stdin:\n",
        "    annorivi = annojen_erittely(line)\n",
        "    if len(annorivi) >= 2:\n",
        "        etsittava_sana = annorivi[2].lower()\n",
        "        if etsittava_sana in etsittavat_sanat:\n",
        "          if \"kk\" not in annorivi[1]: # tällä varmistetaan inessiivit koska kk:k vaihtelu\n",
        "              if \"ssa\" in annorivi[1].lower():\n",
        "                  yleiskielinen.append(annorivi)\n",
        "              elif \"sa\" in (annorivi[1]).lower() and \"ss\" not in annorivi[1].lower() and \"Case=Ine\" in annorivi[5]:\n",
        "                  lantinen_s.append(annorivi)\n",
        "              elif \"s\" in (annorivi[1])[-1].lower():\n",
        "                  lantinen_kato.append(annorivi)\n",
        "              else:\n",
        "                  muu.append(annorivi)\n",
        "\n",
        "# prosentteja varten\n",
        "total_matches = len(yleiskielinen) + len(lantinen_kato) + len(lantinen_s)\n",
        "\n",
        "if total_matches > 0:\n",
        "    percentages = {\n",
        "        \"Yleiskielinen pääte\": len(yleiskielinen) / total_matches * 100,\n",
        "        \"Muut läntiset s-päätteet (kato)\": len(lantinen_kato) / total_matches * 100,\n",
        "        \"Päätteenä kaksoiskonsonantin supistuminen eli paikasa\": len(lantinen_s) / total_matches * 100,\n",
        "    }\n",
        "\n",
        "    for key, value in percentages.items():\n",
        "        print(f\"{key} osuus esiintymistä: {value:.2f}%\\n\")\n",
        "\n",
        "# esiintymät ulos, taman voi poistaa jos tarve vaan frekvensseille\n",
        "print(\"Kaikki yleiskieliset esiintymät:\", len(yleiskielinen))\n",
        "print(\"Ei eritellä yleiskielisiä esiintymiä\")\n",
        "print(\"Muut läntiset s-päätteet (kato):\", len(lantinen_kato))\n",
        "for item in lantinen_kato:\n",
        "    print(item)\n",
        "print(\"Kaikki kaksoiskonsonantin supistumiset eli paikasa:\", len(lantinen_s))\n",
        "for item in lantinen_s:\n",
        "    print(item)\n",
        "print(\"Muut esiintymät:\", len(muu))\n",
        "print(\"Ei eritellä muita\")\n"
      ],
      "metadata": {
        "id": "I3l2fKjVs6pO"
      },
      "execution_count": null,
      "outputs": []
    },
    {
      "cell_type": "markdown",
      "source": [
        "## Kieltohakuiset määrän partikkelimaiset adverbit\n",
        "- Mielenkiinnosta näiden esiintymät korpuksessa\n",
        "- Lemmoja voisi lisätä, ja toisaalta näitäkin voisi jakaa eri luokkiin eikä tarkastella yhdessä \"adverbiesiintymänä\"\n",
        "- Huom. system input --> korvaa tarvittaessa open file"
      ],
      "metadata": {
        "id": "rh40rLCr1nAT"
      }
    },
    {
      "cell_type": "code",
      "source": [
        "import sys\n",
        "import re\n",
        "from collections import Counter\n",
        "\n",
        "etsittavat_sanat = [\"lainkaan\", \"ollenkaan\", \"ollaikaa\", \"ollenka\", \"ollenkaa\", \"ensinkään\", \"ensinkää\", \"ensinkä\", \"ensinkkä\", \"laisinkaan\", \"lainenka\", \"laisinka\",]\n",
        "\n",
        "adverbiesiintyma = []\n",
        "muu = []   # tänne kerätään muut muodot\n",
        "\n",
        "laskuri = Counter()\n",
        "kaikkilemmat = 0\n",
        "\n",
        "def annojen_erittely(line):\n",
        "    pattern = r\"'.*?'\"\n",
        "    annot = re.findall(pattern, line)\n",
        "    annot = [i.strip(\"'\") for i in annot]\n",
        "    return annot\n",
        "\n",
        "for line in sys.stdin:\n",
        "    annorivi = annojen_erittely(line)\n",
        "    if len(annorivi) >= 2:\n",
        "        kaikkilemmat += 1\n",
        "        etsittava_sana = annorivi[2].lower()\n",
        "        if etsittava_sana in etsittavat_sanat:\n",
        "          adverbiesiintyma.append(annorivi)\n",
        "\n",
        "if kaikkilemmat > 0:\n",
        "  osuus = round((len(adverbiesiintyma) / kaikkilemmat) * 100, 4)\n",
        "else:\n",
        "  osuus = 0\n",
        "\n",
        "# esiintymät ulos, taman voi poistaa jos tarve vaan frekvensseille\n",
        "print(\"Adverbit, joita etsittiin:\", len(adverbiesiintyma))\n",
        "print(\"Yhteensä lemmoja:\", kaikkilemmat)\n",
        "print(\"Eli osuus kaikista:\", osuus, \"%\")\n",
        "for item in adverbiesiintyma:\n",
        "    print(item)"
      ],
      "metadata": {
        "id": "KJlE0QNP1ocx"
      },
      "execution_count": null,
      "outputs": []
    },
    {
      "cell_type": "markdown",
      "source": [
        "## Persoonapronominit\n",
        "- Huom. lemmana minä/sinä on huomioitu, sillä osa murteellisista wordformeista on annotoitu yleiskielisiksi. Luokittelussa näitä ei kuitenkaan ole vielä kerätty omaan listaan\n",
        "- Huom. system input --> korvaa tarvittaessa open file"
      ],
      "metadata": {
        "id": "Wf0ellNr9bsW"
      }
    },
    {
      "cell_type": "code",
      "source": [
        "etsittavat_sanat = [\"mä\", \"mää\", \"sä\", \"sää\", \"mie\", \"miä\", \"sie\", \"siä\", \"minä\", \"sinä\"]\n",
        "\n",
        "mä_sä = []\n",
        "mie_sie = []\n",
        "muu = []\n",
        "\n",
        "laskuri = Counter()\n",
        "\n",
        "def annojen_erittely(line):\n",
        "    pattern = r\"'.*?'\"\n",
        "    annot = re.findall(pattern, line)\n",
        "    annot = [i.strip(\"'\") for i in annot]\n",
        "    return annot\n",
        "\n",
        "for line in sys.stdin:\n",
        "    annorivi = annojen_erittely(line)\n",
        "    if len(annorivi) >= 2:\n",
        "        etsittava_sana = annorivi[2].lower()\n",
        "        if (etsittava_sana in etsittavat_sanat and\n",
        "            \"PRON\" in annorivi[3] and\n",
        "            \"l\" not in annorivi[1] and\n",
        "            len(annorivi[1]) > 1 and\n",
        "            any(word in annorivi[1] for word in [\"mä\", \"sä\", \"mie\", \"sie\"])\n",
        "           ):\n",
        "            if \"mä\" in etsittava_sana or \"sä\" in etsittava_sana:\n",
        "                mä_sä.append(annorivi)\n",
        "            elif \"mie\" in etsittava_sana or \"sie\" in etsittava_sana:\n",
        "                mie_sie.append(annorivi)\n",
        "\n",
        "# lasketaan kaikki esiintymät ja osuudet\n",
        "total_matches = len(mä_sä) + len(mie_sie) + len(muu)\n",
        "\n",
        "if total_matches > 0:\n",
        "    percentages = {\n",
        "        \"Läntinen mä tai sä\": len(mä_sä) / total_matches * 100,\n",
        "        \"Itäinen mie tai sie\": len(mie_sie) / total_matches * 100,\n",
        "        \"Muut esiintymät\": len(muu) / total_matches * 100,\n",
        "    }\n",
        "\n",
        "    for key, value in percentages.items():\n",
        "        print(f\"{key} osuus esiintymistä: {value:.2f}%\\n\")\n",
        "\n",
        "# esiintymät ulos, taman voi poistaa jos tarve vaan frekvensseille\n",
        "print(\"Kaikki läntiset:\", len(mä_sä))\n",
        "for item in mä_sä:\n",
        "    print(item)\n",
        "print(\"Kaikki itäiset:\", len(mie_sie))\n",
        "for item in mie_sie:\n",
        "    print(item)\n",
        "print(\"Kaikki muut esiintymät:\", len(muu))\n",
        "for item in muu:\n",
        "    print(item)\n"
      ],
      "metadata": {
        "id": "Hs8b4ID99eO1",
        "colab": {
          "base_uri": "https://localhost:8080/"
        },
        "outputId": "f7248958-f512-404b-a199-dc295ab8d0f0"
      },
      "execution_count": null,
      "outputs": [
        {
          "output_type": "stream",
          "name": "stdout",
          "text": [
            "Kaikki läntiset: 0\n",
            "Kaikki itäiset: 0\n",
            "Kaikki muut esiintymät: 0\n"
          ]
        }
      ]
    },
    {
      "cell_type": "markdown",
      "source": [
        "## Diftongien avartuminen"
      ],
      "metadata": {
        "id": "JP8R3Pnqcr8N"
      }
    },
    {
      "cell_type": "code",
      "source": [
        "etsittavat_sanat = [\"tyä\", \"työ\", \"tyähätä\", \"hiano\", \"hieno\", \"kiero\", \"kiaro\", \"lyö\", \"lyä\", \"syö\", \"syä\", \"syädä\", \"syödä\",]\n",
        "\n",
        "avartuminen = []\n",
        "yleiskielinen = []\n",
        "muu = []\n",
        "\n",
        "laskuri = Counter()\n",
        "\n",
        "def annojen_erittely(line):\n",
        "    pattern = r\"'.*?'\"\n",
        "    annot = re.findall(pattern, line)\n",
        "    annot = [i.strip(\"'\") for i in annot]\n",
        "    return annot\n",
        "\n",
        "for line in sys.stdin:\n",
        "    annorivi = annojen_erittely(line)\n",
        "    if len(annorivi) >= 2:\n",
        "        etsittava_sana = annorivi[2].lower()\n",
        "        if etsittava_sana in etsittavat_sanat:\n",
        "            if \"uo\" or \"yö\" or \"ie\" in annorivi[1]:\n",
        "                yleiskielinen.append(annorivi)\n",
        "            elif \"ua\" or \"yä\" or \"ia\" in annorivi[1]:\n",
        "                avartuminen.append(annorivi)\n",
        "            else:\n",
        "                muu.append(annorivi)\n",
        "\n",
        "# lasketaan kaikki esiintymät ja osuudet\n",
        "total_matches = len(avartuminen) + len(yleiskielinen) + len(muu)\n",
        "\n",
        "if total_matches > 0:\n",
        "    percentages = {\n",
        "        \"Yleiskielinen\": len(yleiskielinen) / total_matches * 100,\n",
        "        \"Diftongien avartuminen\": len(avartuminen) / total_matches * 100,\n",
        "        \"Muut esiintymät\": len(muu) / total_matches * 100,\n",
        "    }\n",
        "\n",
        "    for key, value in percentages.items():\n",
        "        print(f\"{key} osuus esiintymistä: {value:.2f}%\\n\")\n",
        "    print()\n",
        "\n",
        "# esiintymät ulos, taman voi poistaa jos tarve vaan frekvensseille\n",
        "print(\"Kaikki yleiskieliset variantit:\", len(yleiskielinen))\n",
        "for item in yleiskielinen:\n",
        "    print(item)\n",
        "print(\"Kaikki diftongien avartumiset:\", len(avartuminen))\n",
        "for item in avartuminen:\n",
        "    print(item)\n",
        "print(\"Kaikki muut esiintymät:\", len(muu))\n",
        "for item in muu:\n",
        "    print(item)"
      ],
      "metadata": {
        "id": "CJQv_whwcwyd"
      },
      "execution_count": null,
      "outputs": []
    },
    {
      "cell_type": "markdown",
      "source": [
        "## Länsimurteiden lyhentyneet vokaalit"
      ],
      "metadata": {
        "id": "EX8kTrzxUJAj"
      }
    },
    {
      "cell_type": "code",
      "source": [
        "etsittavat_sanat = [\"jiähtyä\", \"jähtyä\", \"jäähtyä\", \"hahmo\", \"haahmo\", \"huahmo\", \"pyhkii\", \"pyyhkii\", \"pyihkii\", \"ruhka\", \"ruuhka\"]\n",
        "\n",
        "lyhentynyt_vokaali = []\n",
        "pitka_vokaali = []\n",
        "muu_itainen = []\n",
        "muu = []\n",
        "\n",
        "laskuri = Counter()\n",
        "\n",
        "def annojen_erittely(line):\n",
        "    pattern = r\"'.*?'\"\n",
        "    annot = re.findall(pattern, line)\n",
        "    annot = [i.strip(\"'\") for i in annot]\n",
        "    return annot\n",
        "\n",
        "for line in sys.stdin:\n",
        "    annorivi = annojen_erittely(line)\n",
        "    if len(annorivi) >= 2:\n",
        "        etsittava_sana = annorivi[2].lower()\n",
        "        if etsittava_sana in etsittavat_sanat:\n",
        "            if len(etsittava_sana) > 1 and etsittava_sana[1] not in \"aeiouyäö\": # jos sanan toinen kirjain ei vokaali -> muu\n",
        "                muu.append(annorivi)\n",
        "            elif len(etsittava_sana) >= 4 and etsittava_sana[2] in \"aeiouyäö\" and etsittava_sana[3] not in \"aeiouyäö\": # jos toinen on vokaali, mutta kolmas ei -> lyhentynyt\n",
        "                lyhentynyt_vokaali.append(annorivi)\n",
        "            elif len(etsittava_sana) >= 4 and etsittava_sana[2] in \"aeiouyäö\" and etsittava_sana[3] in \"aeiouyäö\": # jos kaksi vokaalia ->\n",
        "                if etsittava_sana[2] == etsittava_sana[3]: # jos pitkä vokaali\n",
        "                    pitka_vokaali.append(annorivi)\n",
        "                else:  # jos diftongi yms.\n",
        "                    muu_itainen.append(annorivi)\n",
        "\n",
        "# lasketaan kaikki esiintymät ja osuudet\n",
        "total_matches = len(pitka_vokaali) + len(muu_itainen) + len(lyhentynyt_vokaali) + len(muu)\n",
        "\n",
        "if total_matches > 0:\n",
        "    percentages = {\n",
        "        \"Lyhentynyt vokaali\": len(lyhentynyt_vokaali) / total_matches * 100,\n",
        "        \"Pitkä vokaali\": len(pitka_vokaali) / total_matches * 100,\n",
        "        \"Muu itainen eli diftongi\": len(muu_itainen) / total_matches * 100,\n",
        "        \"Muut esiintymät\": len(muu) / total_matches * 100,\n",
        "    }\n",
        "\n",
        "    for key, value in percentages.items():\n",
        "        print(f\"{key} osuus esiintymistä: {value:.2f}%\\n\")\n",
        "\n",
        "# esiintymät ulos, taman voi poistaa jos tarve vaan frekvensseille\n",
        "print(\"Kaikki lyhentyneet vokaalit:\", len(lyhentynyt_vokaali))\n",
        "for item in lyhentynyt_vokaali:\n",
        "    print(item)\n",
        "print(\"Kaikki pitkät vokaalit:\", len(pitka_vokaali))\n",
        "for item in pitka_vokaali:\n",
        "    print(item)\n",
        "print(\"Kaikki muut itäiset eli diftongi:\", len(muu_itainen))\n",
        "for item in muu_itainen:\n",
        "    print(item)\n",
        "print(\"Kaikki muut esiintymät:\", len(muu))\n",
        "for item in muu:\n",
        "    print(item)"
      ],
      "metadata": {
        "id": "aKMHjLo3U9-G"
      },
      "execution_count": null,
      "outputs": []
    }
  ]
}